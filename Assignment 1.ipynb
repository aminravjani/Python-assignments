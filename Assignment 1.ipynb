{
 "cells": [
  {
   "cell_type": "code",
   "execution_count": 1,
   "id": "d05f26bd",
   "metadata": {},
   "outputs": [],
   "source": [
    "#1. In the below elements which of them are values or an expression? eg:- values can be integer or string and expressions will be mathematical operators.\n",
    "# * \n",
    "#'hello'\n",
    "#-87.8\n",
    "#- \n",
    "# / \n",
    "#+\t\n",
    "# 6 \n",
    "\n",
    "\n",
    "#below is answer:\n",
    "#'hello' is value\n",
    "#-87.8 is value\n",
    "#-  is expression\n",
    "# / is expression\n",
    "#+\t is expression\n",
    "# 6 is value"
   ]
  },
  {
   "cell_type": "code",
   "execution_count": 2,
   "id": "4d45efa5",
   "metadata": {},
   "outputs": [],
   "source": [
    "# 2. What is the difference between string and variable?\n",
    "# Variables are symbols that you can use to store data in a program, and a String is a type of information(characters) you would store in a Variable\n",
    "x =\"amin\"\n",
    "#in above statement x is variable and amin is string.x is holding the value of amin"
   ]
  },
  {
   "cell_type": "code",
   "execution_count": 3,
   "id": "1e7ea7fd",
   "metadata": {},
   "outputs": [
    {
     "name": "stdout",
     "output_type": "stream",
     "text": [
      " I am string\n",
      "<class 'str'>\n",
      "\n",
      "list represeanted as example ['amin', 1, (2+3j), True, [1, 2, 3, 4]]\n",
      "\n",
      "tupple represeanted as example (1, 2, 3, 'amin', (5+6j), True)\n"
     ]
    }
   ],
   "source": [
    "# 3. Describe three different data types.\n",
    "\n",
    "# there are many data types in python : String, integers, float, complex, list, tupple,set, dictionary,boolean\n",
    "\n",
    "# String:\n",
    "# A string is a collection of one or more characters. It is represented in doubel quotes\"\" or single quotes''\n",
    "a = \" I am string\"\n",
    "print(a)\n",
    "print(type(a))\n",
    "\n",
    "#List:\n",
    "# List is array or collections of data of anytype like string, intergers, list,etc.It is represented by square bracket [] and data can be stored in the square bracket\n",
    "l = [\"amin\", 1, 2+3j , True,[1,2,3,4] ]\n",
    "print(\"\\nlist represeanted as example\",l)\n",
    "#List can also hold other list in it\n",
    "\n",
    "#Tuple:\n",
    "#Tupples are immutable collection of objects.It cannot be modified after its creation.\n",
    "#Just like list, tuples can contain any number of elements and of any datatype (like strings, integers, list, etc.)\n",
    "t =(1,2,3,\"amin\", 5+6j, True)\n",
    "print(\"\\ntupple represeanted as example\",t)"
   ]
  },
  {
   "cell_type": "code",
   "execution_count": 4,
   "id": "f0982957",
   "metadata": {},
   "outputs": [],
   "source": [
    "# 4. What is an expression made up of? What do all expressions do?\n",
    "#An expression is a combination of operators and operands that is interpreted to produce some other value.\n",
    "# WE can write arithmetic expression(+,-,*,etc), relational expression (<, >), logical expressions"
   ]
  },
  {
   "cell_type": "code",
   "execution_count": 5,
   "id": "543e8a9d",
   "metadata": {},
   "outputs": [],
   "source": [
    "# This assignment statements, like spam = 10. What is the difference between an expression and a statement?\n",
    "#Expression is made up of values, containers, and mathematical operators  and the statement is just like a command that a python interpreter executes like print."
   ]
  },
  {
   "cell_type": "code",
   "execution_count": 6,
   "id": "cd2d6145",
   "metadata": {},
   "outputs": [
    {
     "data": {
      "text/plain": [
       "23"
      ]
     },
     "execution_count": 6,
     "metadata": {},
     "output_type": "execute_result"
    }
   ],
   "source": [
    "#6. After running the following code, what does the variable bacon contain?\n",
    "\n",
    "bacon = 22\n",
    "\n",
    "bacon + 1\n",
    "\n",
    "# Sol: it gives 23 as execution code "
   ]
  },
  {
   "cell_type": "code",
   "execution_count": 7,
   "id": "7d1568a4",
   "metadata": {},
   "outputs": [
    {
     "name": "stdout",
     "output_type": "stream",
     "text": [
      "spamspamspam\n",
      "spamspamspam\n"
     ]
    }
   ],
   "source": [
    "7. #What should the values of the following two terms be?\n",
    "\n",
    "a = 'spam' + 'spamspam'\n",
    "\n",
    "b = 'spam' * 3\n",
    "print(a)\n",
    "print(b)\n",
    "#sol: it will be the same"
   ]
  },
  {
   "cell_type": "code",
   "execution_count": 8,
   "id": "e13624d3",
   "metadata": {},
   "outputs": [
    {
     "ename": "SyntaxError",
     "evalue": "cannot assign to literal (CreatorTemp/ipykernel_2584/2201355017.py, line 5)",
     "output_type": "error",
     "traceback": [
      "\u001b[1;36m  File \u001b[1;32m\"C:\\Users\\Public\\Documents\\Wondershare\\CreatorTemp/ipykernel_2584/2201355017.py\"\u001b[1;36m, line \u001b[1;32m5\u001b[0m\n\u001b[1;33m    100 = eggs # this is invalid\u001b[0m\n\u001b[1;37m    ^\u001b[0m\n\u001b[1;31mSyntaxError\u001b[0m\u001b[1;31m:\u001b[0m cannot assign to literal\n"
     ]
    }
   ],
   "source": [
    "#8. Why is eggs a valid variable name while 100 is invalid?\n",
    "\n",
    "#ans: Python does not allot variable an integer name. if we, we should begin with, a string-like alphabet name then integer. e100 or eggs100 is valid\n",
    "e100 = \"Eggs\" # this is valid\n",
    "100 = eggs # this is invalid"
   ]
  },
  {
   "cell_type": "code",
   "execution_count": 9,
   "id": "70b72c47",
   "metadata": {},
   "outputs": [
    {
     "name": "stdout",
     "output_type": "stream",
     "text": [
      "12.2\n",
      "14\n",
      "12.2\n"
     ]
    }
   ],
   "source": [
    "#9. What three functions can be used to get the integer, floating-point number, or string version of a value?\n",
    "# ans: int(), float(), str()\n",
    "\n",
    "a = 12.2\n",
    "int(a)# converting float to integer\n",
    "print(a)\n",
    "b =14\n",
    "float(b)# converting integer in float\n",
    "print(b)\n",
    "print(str(a))# cnverting float a into string"
   ]
  },
  {
   "cell_type": "code",
   "execution_count": 46,
   "id": "6e9e8f67",
   "metadata": {},
   "outputs": [
    {
     "data": {
      "text/plain": [
       "'I have eaten99burritos'"
      ]
     },
     "execution_count": 46,
     "metadata": {},
     "output_type": "execute_result"
    }
   ],
   "source": [
    "#10. Why does this expression cause an error? How can you fix it?\n",
    "#'I have eaten' + 99 + 'burritos' \n",
    "\n",
    "# ans: 99 is integers and strings and float does not concatenate.\n",
    "# it can be fixed by converting 99 to string \n",
    "'I have eaten' + str(99) + 'burritos' "
   ]
  },
  {
   "cell_type": "code",
   "execution_count": null,
   "id": "9929c42e",
   "metadata": {},
   "outputs": [],
   "source": []
  }
 ],
 "metadata": {
  "kernelspec": {
   "display_name": "Python 3 (ipykernel)",
   "language": "python",
   "name": "python3"
  },
  "language_info": {
   "codemirror_mode": {
    "name": "ipython",
    "version": 3
   },
   "file_extension": ".py",
   "mimetype": "text/x-python",
   "name": "python",
   "nbconvert_exporter": "python",
   "pygments_lexer": "ipython3",
   "version": "3.9.7"
  }
 },
 "nbformat": 4,
 "nbformat_minor": 5
}
