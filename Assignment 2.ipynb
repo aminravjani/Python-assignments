{
 "cells": [
  {
   "cell_type": "code",
   "execution_count": 1,
   "id": "551b1bc0",
   "metadata": {},
   "outputs": [],
   "source": [
    "#Assignment 2 "
   ]
  },
  {
   "cell_type": "code",
   "execution_count": 2,
   "id": "573a97d1",
   "metadata": {},
   "outputs": [
    {
     "name": "stdout",
     "output_type": "stream",
     "text": [
      "<class 'bool'>\n",
      "False\n",
      "False\n"
     ]
    }
   ],
   "source": [
    "#1.What are the two values of the Boolean data type? How do you write them?\n",
    "# Ans True or False are the boolearn data type\n",
    "print(type(True))\n",
    "# Check Equality\n",
    "a = 5\n",
    "b = 6\n",
    "print(bool(a==b))\n",
    "\n",
    "a = ()\n",
    "print(bool(a))"
   ]
  },
  {
   "cell_type": "code",
   "execution_count": 3,
   "id": "05fee0d6",
   "metadata": {},
   "outputs": [
    {
     "name": "stdout",
     "output_type": "stream",
     "text": [
      "True\n",
      "False\n",
      "True\n",
      "True\n",
      "False\n",
      "True\n",
      "False\n",
      "False\n",
      "False\n",
      "True\n"
     ]
    }
   ],
   "source": [
    "# 2. What are the three different types of Boolean operators?\n",
    "# Ans:\n",
    "# Comparison operators\n",
    "# equal to operator == . It results in a True if the 2 operands are equal, and a False if unequal.\n",
    "print(1==1) \n",
    "print((10-5+2)==(7-9+1))\n",
    "\n",
    "# Not equal to operator !=. It results in a True if the 2 operands are unequal, and a False if equal.\n",
    "print(3!=2)\n",
    "print((7-1*2)!=(8*2+4))\n",
    "\n",
    "# Less than or equal to <= . It results in a True if the first operand is lesser than or equal to the second, else a False.\n",
    "print(3<=2)\n",
    "print((7-1*2)<=(8*2+4))\n",
    "\n",
    "# and\tTrue if both are True\n",
    "# or\tTrue if at least one is True\n",
    "x = 5\n",
    "y = 10\n",
    "z = 11\n",
    "print((x > y) and (y > z))\n",
    "print((x > y) and (y < z))\n",
    "print((x < y) and (y > z))\n",
    "print((x < y) and (y < z))"
   ]
  },
  {
   "cell_type": "code",
   "execution_count": 4,
   "id": "32b33328",
   "metadata": {},
   "outputs": [
    {
     "data": {
      "text/plain": [
       "True"
      ]
     },
     "execution_count": 4,
     "metadata": {},
     "output_type": "execute_result"
    }
   ],
   "source": [
    "# 3. Make a list of each Boolean operator's truth tables (i.e. every possible combination of Boolean values for the operator and what it evaluate ).\n",
    "\n",
    "#  and operation \n",
    "False and False is False\n",
    "True and False is False\n",
    "False and True is True\n",
    "True and True is True\n",
    "\n",
    "# or operation\n",
    "False or False is False\n",
    "True or  False is True\n",
    "False or True is True\n",
    "True or True is True\n",
    "\n",
    "# not operation\n",
    "not True is False\n",
    "not False is True"
   ]
  },
  {
   "cell_type": "code",
   "execution_count": 5,
   "id": "ed2e7d38",
   "metadata": {},
   "outputs": [
    {
     "name": "stdout",
     "output_type": "stream",
     "text": [
      "Value of (5 > 4) and (3 == 5) is  False\n",
      "Value of not (5 > 4) is  False\n",
      "Value of (5 > 4) or (3 == 5) is True\n",
      "Value of not ((5 > 4) or (3 == 5)) is False\n",
      "value of (True and True) and (True == False) is False\n",
      "Value of (not False) or (not True) is True\n"
     ]
    }
   ],
   "source": [
    "# 4. What are the values of the following expressions?\n",
    "#sol: \n",
    "# (5 > 4) and (3 == 5)\n",
    "print(\"Value of (5 > 4) and (3 == 5) is \", (5 > 4) and (3 == 5)) # it is false\n",
    "\n",
    "#not (5 > 4)\n",
    "print(\"Value of not (5 > 4) is \", not(5 > 4))#it is false\n",
    "\n",
    "#(5 > 4) or (3 == 5) \n",
    "print(\"Value of (5 > 4) or (3 == 5) is\" , (5 > 4) or (3 == 5)) # it is True\n",
    "\n",
    "#not ((5 > 4) or (3 == 5))\n",
    "print(\"Value of not ((5 > 4) or (3 == 5)) is\" , not(5 > 4) or (3 == 5)) # it is false\n",
    "\n",
    "#(True and True) and (True == False) # it is false\n",
    "print(\"value of (True and True) and (True == False) is\" , (True and True) and (True == False))\n",
    "\n",
    "#(not False) or (not True) # It is True\n",
    "print(\"Value of (not False) or (not True) is\" , (not False) or (not True))"
   ]
  },
  {
   "cell_type": "code",
   "execution_count": 6,
   "id": "67ae2cac",
   "metadata": {},
   "outputs": [],
   "source": [
    "#5. What are the six comparison operators?\n",
    "\n",
    "# ans.  \n",
    "#1. Equal to == \n",
    "#2. not equal to !=\n",
    "#3. leess than <\n",
    "#4. greater than >\n",
    "#5. less than equal to <=\n",
    "#6. greater than equal to >="
   ]
  },
  {
   "cell_type": "code",
   "execution_count": 7,
   "id": "04d4b512",
   "metadata": {},
   "outputs": [
    {
     "data": {
      "text/plain": [
       "False"
      ]
     },
     "execution_count": 7,
     "metadata": {},
     "output_type": "execute_result"
    }
   ],
   "source": [
    "#6. How do you tell the difference between the equal to and assignment operators?\n",
    "#Describe a condition and when you would use one.\n",
    "\n",
    "# ans. The “=” is an assignment operator is used to assign the value on the right to the variable on the left.\n",
    "# == is comparision operation which returns boolean output\n",
    "a = 5 # assignment operator is a\n",
    "b = 6 # assignment operator  is b \n",
    "a == b # return  boolean output as true or false"
   ]
  },
  {
   "cell_type": "code",
   "execution_count": 8,
   "id": "5e255d9a",
   "metadata": {},
   "outputs": [
    {
     "name": "stdout",
     "output_type": "stream",
     "text": [
      "ham\n",
      "spam\n",
      "spam\n"
     ]
    }
   ],
   "source": [
    "# 7. Identify the three blocks in this code:\n",
    "#spam = 0\n",
    "#if spam == 10:\n",
    "#print('eggs')\n",
    "# if spam > 5:\n",
    "# print('bacon')\n",
    "# else:\n",
    "# print('ham')\n",
    "# print('spam')\n",
    "# print('spam')\n",
    "\n",
    "#Ans:  blocks are nothing but indentations\n",
    "spam = 0\n",
    "if spam == 10:\n",
    "    print('eggs')# added indentation\n",
    "if spam > 5:\n",
    "    print('bacon')# added indentation\n",
    "else:\n",
    "    print('ham')# added indentation\n",
    "    print('spam')# added indentation\n",
    "    print('spam')# added indentation"
   ]
  },
  {
   "cell_type": "code",
   "execution_count": 9,
   "id": "0e72cc47",
   "metadata": {},
   "outputs": [
    {
     "name": "stdout",
     "output_type": "stream",
     "text": [
      "3232\n",
      "greetings\n"
     ]
    }
   ],
   "source": [
    "# 8. Write code that prints Hello if 1 is stored in spam,\n",
    "# prints Howdy if 2 is stored in spam, and prints Greetings! if anything else is stored in spam.\n",
    "#sol: \n",
    "\n",
    "spam = int(input())\n",
    "if spam == 1:\n",
    "    print(\"hello\")\n",
    "elif spam == 2:\n",
    "    print(\"howdy\")\n",
    "else:\n",
    "    print(\"greetings\")"
   ]
  },
  {
   "cell_type": "code",
   "execution_count": 10,
   "id": "f642a823",
   "metadata": {},
   "outputs": [],
   "source": [
    "# 9.If your programme is stuck in an endless loop, what keys you’ll press?\n",
    "\n",
    "# interrupt the kernel on Jupyter tab or  control + C"
   ]
  },
  {
   "cell_type": "code",
   "execution_count": 11,
   "id": "b5c55f85",
   "metadata": {},
   "outputs": [],
   "source": [
    "# 10. How can you tell the difference between break and continue?\n",
    "# ans: Break statement break the the entire loop and takes the code out of loop.\n",
    "# continue statement give control to loop and not execute next line"
   ]
  },
  {
   "cell_type": "code",
   "execution_count": 12,
   "id": "4cc2a92a",
   "metadata": {},
   "outputs": [],
   "source": [
    "# 11. In a for loop, what is the difference between range(10), range(0, 10), and range(0, 10, 1)?\n",
    "#Ans: All of them are same\n"
   ]
  },
  {
   "cell_type": "code",
   "execution_count": 13,
   "id": "32499908",
   "metadata": {},
   "outputs": [
    {
     "name": "stdout",
     "output_type": "stream",
     "text": [
      "1\n",
      "2\n",
      "3\n",
      "4\n",
      "5\n",
      "6\n",
      "7\n",
      "8\n",
      "9\n",
      "10\n",
      "1\n",
      "2\n",
      "3\n",
      "4\n",
      "5\n",
      "6\n",
      "7\n",
      "8\n",
      "9\n",
      "10\n"
     ]
    }
   ],
   "source": [
    "#12. Write a short program that prints the numbers 1 to 10 using a for loop. Then write an equivalent program that prints the numbers 1 to 10 using a while loop.\n",
    "# Sol:\n",
    "# printing using for loop \n",
    "for i in range(1,11):\n",
    "    print(i)\n",
    "# printing using while loop     \n",
    "i = 1\n",
    "while i <=10:\n",
    "    print(i)\n",
    "    i = i +1"
   ]
  },
  {
   "cell_type": "code",
   "execution_count": 14,
   "id": "ed76330d",
   "metadata": {},
   "outputs": [],
   "source": [
    "#13. If you had a function named bacon() inside a module named spam, how would you call it after importing spam\n",
    "\n",
    "#ans.\n",
    "# This function can be called with spam. bacon()."
   ]
  }
 ],
 "metadata": {
  "kernelspec": {
   "display_name": "Python 3 (ipykernel)",
   "language": "python",
   "name": "python3"
  },
  "language_info": {
   "codemirror_mode": {
    "name": "ipython",
    "version": 3
   },
   "file_extension": ".py",
   "mimetype": "text/x-python",
   "name": "python",
   "nbconvert_exporter": "python",
   "pygments_lexer": "ipython3",
   "version": "3.9.7"
  }
 },
 "nbformat": 4,
 "nbformat_minor": 5
}
